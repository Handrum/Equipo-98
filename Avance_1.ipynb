{
  "nbformat": 4,
  "nbformat_minor": 0,
  "metadata": {
    "colab": {
      "name": "assignment01.ipynb",
      "provenance": [],
      "include_colab_link": true
    },
    "kernelspec": {
      "name": "python3",
      "display_name": "Python 3"
    },
    "language_info": {
      "name": "python"
    }
  },
  "cells": [
    {
      "cell_type": "markdown",
      "metadata": {
        "id": "view-in-github",
        "colab_type": "text"
      },
      "source": [
        "<a href=\"https://colab.research.google.com/github/Handrum/Equipo-98/blob/main/Avance_1.ipynb\" target=\"_parent\"><img src=\"https://colab.research.google.com/assets/colab-badge.svg\" alt=\"Open In Colab\"/></a>"
      ]
    },
    {
      "cell_type": "code",
      "execution_count": null,
      "metadata": {
        "id": "LzUSMM79NR9P",
        "outputId": "fcef1f4e-bbcb-4a38-de33-85fe3c12ceed",
        "colab": {
          "base_uri": "https://localhost:8080/"
        }
      },
      "outputs": [
        {
          "output_type": "stream",
          "name": "stdout",
          "text": [
            "BASE DE DATOS MINSALUD - CALIDAD EPS\n"
          ]
        }
      ],
      "source": [
        "print('BASE DE DATOS MINSALUD - CALIDAD EPS')"
      ]
    },
    {
      "cell_type": "markdown",
      "source": [
        "**Ministerio de Salud**: https://www.minsalud.gov.co/Paginas/datos-abiertos.aspx\n",
        "**Clicsalud- Indicadores de calidad EPS**: https://www.datos.gov.co/Salud-y-Protecci-n-Social/Clicsalud-Indicadores-de-calidad-EPS/vw9t-pugy/data"
      ],
      "metadata": {
        "id": "GXdxvEdf8SL7"
      }
    },
    {
      "cell_type": "code",
      "source": [
        "Redacción de una página, en jupyter notebook, como máximo que incluya lo siguiente:\n",
        "\n",
        "1. El nombre que caracteriza el conjunto de datos:\n",
        "Clicsalud- Indicadores de calidad EPS\n",
        "\n",
        "2. La organización que lo generó:\n",
        "\n",
        "\n",
        "3. Incluya un enlace de Internet donde se puedan descargar en línea y enviar como una hoja de cálculo junto con su informe correspondiente:\n",
        "\n",
        "\n",
        "4. Describe el conjunto de datos. ¿Qué datos contiene?:\n",
        "\n",
        "\n",
        "5. ¿Cuáles son algunas de las preguntas de investigación que podría responder con estos datos? Enumere al menos OCHO (no responda las preguntas):\n",
        "\n",
        "\n",
        "6. ¿Qué actor (empresa, sector de la sociedad, organismo descentralizado, gobierno, etc.) estaría interesado en las preguntas mencionadas que identificó?:\n"
      ],
      "metadata": {
        "id": "mxM_WppZPMFx"
      },
      "execution_count": null,
      "outputs": []
    }
  ]
}